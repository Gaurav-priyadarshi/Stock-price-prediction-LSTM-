{
  "nbformat": 4,
  "nbformat_minor": 0,
  "metadata": {
    "colab": {
      "name": "Stock price prediction (stack LSTM).ipynb",
      "provenance": [],
      "collapsed_sections": []
    },
    "kernelspec": {
      "name": "python3",
      "display_name": "Python 3"
    },
    "language_info": {
      "name": "python"
    },
    "accelerator": "GPU"
  },
  "cells": [
    {
      "cell_type": "code",
      "metadata": {
        "id": "azpTCAvwVK-_"
      },
      "source": [
        "import pandas_datareader as pdr\n",
        "import pandas as pd\n",
        "import os"
      ],
      "execution_count": 1,
      "outputs": []
    },
    {
      "cell_type": "code",
      "metadata": {
        "id": "qk4143qHZA6l"
      },
      "source": [
        "#loading the stock price data \n",
        "key = '********************************'\n",
        "df = pdr.get_data_tiingo('GOOG', api_key=key)"
      ],
      "execution_count": 2,
      "outputs": []
    },
    {
      "cell_type": "code",
      "metadata": {
        "colab": {
          "base_uri": "https://localhost:8080/",
          "height": 450
        },
        "id": "xYlZN8VgbsUW",
        "outputId": "b0f57254-986d-49c6-91a0-54df7cc9d18b"
      },
      "source": [
        "df"
      ],
      "execution_count": 3,
      "outputs": [
        {
          "output_type": "execute_result",
          "data": {
            "text/html": [
              "<div>\n",
              "<style scoped>\n",
              "    .dataframe tbody tr th:only-of-type {\n",
              "        vertical-align: middle;\n",
              "    }\n",
              "\n",
              "    .dataframe tbody tr th {\n",
              "        vertical-align: top;\n",
              "    }\n",
              "\n",
              "    .dataframe thead th {\n",
              "        text-align: right;\n",
              "    }\n",
              "</style>\n",
              "<table border=\"1\" class=\"dataframe\">\n",
              "  <thead>\n",
              "    <tr style=\"text-align: right;\">\n",
              "      <th></th>\n",
              "      <th></th>\n",
              "      <th>close</th>\n",
              "      <th>high</th>\n",
              "      <th>low</th>\n",
              "      <th>open</th>\n",
              "      <th>volume</th>\n",
              "      <th>adjClose</th>\n",
              "      <th>adjHigh</th>\n",
              "      <th>adjLow</th>\n",
              "      <th>adjOpen</th>\n",
              "      <th>adjVolume</th>\n",
              "      <th>divCash</th>\n",
              "      <th>splitFactor</th>\n",
              "    </tr>\n",
              "    <tr>\n",
              "      <th>symbol</th>\n",
              "      <th>date</th>\n",
              "      <th></th>\n",
              "      <th></th>\n",
              "      <th></th>\n",
              "      <th></th>\n",
              "      <th></th>\n",
              "      <th></th>\n",
              "      <th></th>\n",
              "      <th></th>\n",
              "      <th></th>\n",
              "      <th></th>\n",
              "      <th></th>\n",
              "      <th></th>\n",
              "    </tr>\n",
              "  </thead>\n",
              "  <tbody>\n",
              "    <tr>\n",
              "      <th rowspan=\"11\" valign=\"top\">GOOG</th>\n",
              "      <th>2016-07-13 00:00:00+00:00</th>\n",
              "      <td>716.98</td>\n",
              "      <td>724.0000</td>\n",
              "      <td>716.850</td>\n",
              "      <td>723.62</td>\n",
              "      <td>935876</td>\n",
              "      <td>716.98</td>\n",
              "      <td>724.0000</td>\n",
              "      <td>716.850</td>\n",
              "      <td>723.62</td>\n",
              "      <td>935876</td>\n",
              "      <td>0.0</td>\n",
              "      <td>1.0</td>\n",
              "    </tr>\n",
              "    <tr>\n",
              "      <th>2016-07-14 00:00:00+00:00</th>\n",
              "      <td>720.95</td>\n",
              "      <td>722.2100</td>\n",
              "      <td>718.030</td>\n",
              "      <td>721.58</td>\n",
              "      <td>950193</td>\n",
              "      <td>720.95</td>\n",
              "      <td>722.2100</td>\n",
              "      <td>718.030</td>\n",
              "      <td>721.58</td>\n",
              "      <td>950193</td>\n",
              "      <td>0.0</td>\n",
              "      <td>1.0</td>\n",
              "    </tr>\n",
              "    <tr>\n",
              "      <th>2016-07-15 00:00:00+00:00</th>\n",
              "      <td>719.85</td>\n",
              "      <td>725.7400</td>\n",
              "      <td>719.055</td>\n",
              "      <td>725.73</td>\n",
              "      <td>1279339</td>\n",
              "      <td>719.85</td>\n",
              "      <td>725.7400</td>\n",
              "      <td>719.055</td>\n",
              "      <td>725.73</td>\n",
              "      <td>1279339</td>\n",
              "      <td>0.0</td>\n",
              "      <td>1.0</td>\n",
              "    </tr>\n",
              "    <tr>\n",
              "      <th>2016-07-18 00:00:00+00:00</th>\n",
              "      <td>733.78</td>\n",
              "      <td>736.1300</td>\n",
              "      <td>721.190</td>\n",
              "      <td>722.71</td>\n",
              "      <td>1295476</td>\n",
              "      <td>733.78</td>\n",
              "      <td>736.1300</td>\n",
              "      <td>721.190</td>\n",
              "      <td>722.71</td>\n",
              "      <td>1295476</td>\n",
              "      <td>0.0</td>\n",
              "      <td>1.0</td>\n",
              "    </tr>\n",
              "    <tr>\n",
              "      <th>2016-07-19 00:00:00+00:00</th>\n",
              "      <td>736.96</td>\n",
              "      <td>736.9900</td>\n",
              "      <td>729.000</td>\n",
              "      <td>729.89</td>\n",
              "      <td>1227486</td>\n",
              "      <td>736.96</td>\n",
              "      <td>736.9900</td>\n",
              "      <td>729.000</td>\n",
              "      <td>729.89</td>\n",
              "      <td>1227486</td>\n",
              "      <td>0.0</td>\n",
              "      <td>1.0</td>\n",
              "    </tr>\n",
              "    <tr>\n",
              "      <th>...</th>\n",
              "      <td>...</td>\n",
              "      <td>...</td>\n",
              "      <td>...</td>\n",
              "      <td>...</td>\n",
              "      <td>...</td>\n",
              "      <td>...</td>\n",
              "      <td>...</td>\n",
              "      <td>...</td>\n",
              "      <td>...</td>\n",
              "      <td>...</td>\n",
              "      <td>...</td>\n",
              "      <td>...</td>\n",
              "    </tr>\n",
              "    <tr>\n",
              "      <th>2021-07-02 00:00:00+00:00</th>\n",
              "      <td>2574.38</td>\n",
              "      <td>2576.9600</td>\n",
              "      <td>2535.380</td>\n",
              "      <td>2536.79</td>\n",
              "      <td>1058256</td>\n",
              "      <td>2574.38</td>\n",
              "      <td>2576.9600</td>\n",
              "      <td>2535.380</td>\n",
              "      <td>2536.79</td>\n",
              "      <td>1058256</td>\n",
              "      <td>0.0</td>\n",
              "      <td>1.0</td>\n",
              "    </tr>\n",
              "    <tr>\n",
              "      <th>2021-07-06 00:00:00+00:00</th>\n",
              "      <td>2595.42</td>\n",
              "      <td>2597.6900</td>\n",
              "      <td>2568.180</td>\n",
              "      <td>2588.99</td>\n",
              "      <td>1067517</td>\n",
              "      <td>2595.42</td>\n",
              "      <td>2597.6900</td>\n",
              "      <td>2568.180</td>\n",
              "      <td>2588.99</td>\n",
              "      <td>1067517</td>\n",
              "      <td>0.0</td>\n",
              "      <td>1.0</td>\n",
              "    </tr>\n",
              "    <tr>\n",
              "      <th>2021-07-07 00:00:00+00:00</th>\n",
              "      <td>2601.55</td>\n",
              "      <td>2612.7983</td>\n",
              "      <td>2595.200</td>\n",
              "      <td>2606.82</td>\n",
              "      <td>834186</td>\n",
              "      <td>2601.55</td>\n",
              "      <td>2612.7983</td>\n",
              "      <td>2595.200</td>\n",
              "      <td>2606.82</td>\n",
              "      <td>834186</td>\n",
              "      <td>0.0</td>\n",
              "      <td>1.0</td>\n",
              "    </tr>\n",
              "    <tr>\n",
              "      <th>2021-07-08 00:00:00+00:00</th>\n",
              "      <td>2583.54</td>\n",
              "      <td>2600.6500</td>\n",
              "      <td>2560.800</td>\n",
              "      <td>2565.00</td>\n",
              "      <td>988975</td>\n",
              "      <td>2583.54</td>\n",
              "      <td>2600.6500</td>\n",
              "      <td>2560.800</td>\n",
              "      <td>2565.00</td>\n",
              "      <td>988975</td>\n",
              "      <td>0.0</td>\n",
              "      <td>1.0</td>\n",
              "    </tr>\n",
              "    <tr>\n",
              "      <th>2021-07-09 00:00:00+00:00</th>\n",
              "      <td>2591.49</td>\n",
              "      <td>2596.9900</td>\n",
              "      <td>2578.870</td>\n",
              "      <td>2578.89</td>\n",
              "      <td>755466</td>\n",
              "      <td>2591.49</td>\n",
              "      <td>2596.9900</td>\n",
              "      <td>2578.870</td>\n",
              "      <td>2578.89</td>\n",
              "      <td>755466</td>\n",
              "      <td>0.0</td>\n",
              "      <td>1.0</td>\n",
              "    </tr>\n",
              "  </tbody>\n",
              "</table>\n",
              "<p>1257 rows × 12 columns</p>\n",
              "</div>"
            ],
            "text/plain": [
              "                                    close       high  ...  divCash  splitFactor\n",
              "symbol date                                           ...                      \n",
              "GOOG   2016-07-13 00:00:00+00:00   716.98   724.0000  ...      0.0          1.0\n",
              "       2016-07-14 00:00:00+00:00   720.95   722.2100  ...      0.0          1.0\n",
              "       2016-07-15 00:00:00+00:00   719.85   725.7400  ...      0.0          1.0\n",
              "       2016-07-18 00:00:00+00:00   733.78   736.1300  ...      0.0          1.0\n",
              "       2016-07-19 00:00:00+00:00   736.96   736.9900  ...      0.0          1.0\n",
              "...                                   ...        ...  ...      ...          ...\n",
              "       2021-07-02 00:00:00+00:00  2574.38  2576.9600  ...      0.0          1.0\n",
              "       2021-07-06 00:00:00+00:00  2595.42  2597.6900  ...      0.0          1.0\n",
              "       2021-07-07 00:00:00+00:00  2601.55  2612.7983  ...      0.0          1.0\n",
              "       2021-07-08 00:00:00+00:00  2583.54  2600.6500  ...      0.0          1.0\n",
              "       2021-07-09 00:00:00+00:00  2591.49  2596.9900  ...      0.0          1.0\n",
              "\n",
              "[1257 rows x 12 columns]"
            ]
          },
          "metadata": {
            "tags": []
          },
          "execution_count": 3
        }
      ]
    },
    {
      "cell_type": "code",
      "metadata": {
        "id": "RlUXMrLIdOiA"
      },
      "source": [
        "df.to_csv('APPL.csv')"
      ],
      "execution_count": 4,
      "outputs": []
    },
    {
      "cell_type": "code",
      "metadata": {
        "id": "6rhEISuUdZCz"
      },
      "source": [
        "df = pd.read_csv('/content/APPL.csv')"
      ],
      "execution_count": 5,
      "outputs": []
    },
    {
      "cell_type": "code",
      "metadata": {
        "colab": {
          "base_uri": "https://localhost:8080/",
          "height": 419
        },
        "id": "zqXzzbOQd8fz",
        "outputId": "2f67572a-55bd-4125-e162-fed0131f8717"
      },
      "source": [
        "df"
      ],
      "execution_count": 6,
      "outputs": [
        {
          "output_type": "execute_result",
          "data": {
            "text/html": [
              "<div>\n",
              "<style scoped>\n",
              "    .dataframe tbody tr th:only-of-type {\n",
              "        vertical-align: middle;\n",
              "    }\n",
              "\n",
              "    .dataframe tbody tr th {\n",
              "        vertical-align: top;\n",
              "    }\n",
              "\n",
              "    .dataframe thead th {\n",
              "        text-align: right;\n",
              "    }\n",
              "</style>\n",
              "<table border=\"1\" class=\"dataframe\">\n",
              "  <thead>\n",
              "    <tr style=\"text-align: right;\">\n",
              "      <th></th>\n",
              "      <th>symbol</th>\n",
              "      <th>date</th>\n",
              "      <th>close</th>\n",
              "      <th>high</th>\n",
              "      <th>low</th>\n",
              "      <th>open</th>\n",
              "      <th>volume</th>\n",
              "      <th>adjClose</th>\n",
              "      <th>adjHigh</th>\n",
              "      <th>adjLow</th>\n",
              "      <th>adjOpen</th>\n",
              "      <th>adjVolume</th>\n",
              "      <th>divCash</th>\n",
              "      <th>splitFactor</th>\n",
              "    </tr>\n",
              "  </thead>\n",
              "  <tbody>\n",
              "    <tr>\n",
              "      <th>0</th>\n",
              "      <td>GOOG</td>\n",
              "      <td>2016-07-13 00:00:00+00:00</td>\n",
              "      <td>716.98</td>\n",
              "      <td>724.0000</td>\n",
              "      <td>716.850</td>\n",
              "      <td>723.62</td>\n",
              "      <td>935876</td>\n",
              "      <td>716.98</td>\n",
              "      <td>724.0000</td>\n",
              "      <td>716.850</td>\n",
              "      <td>723.62</td>\n",
              "      <td>935876</td>\n",
              "      <td>0.0</td>\n",
              "      <td>1.0</td>\n",
              "    </tr>\n",
              "    <tr>\n",
              "      <th>1</th>\n",
              "      <td>GOOG</td>\n",
              "      <td>2016-07-14 00:00:00+00:00</td>\n",
              "      <td>720.95</td>\n",
              "      <td>722.2100</td>\n",
              "      <td>718.030</td>\n",
              "      <td>721.58</td>\n",
              "      <td>950193</td>\n",
              "      <td>720.95</td>\n",
              "      <td>722.2100</td>\n",
              "      <td>718.030</td>\n",
              "      <td>721.58</td>\n",
              "      <td>950193</td>\n",
              "      <td>0.0</td>\n",
              "      <td>1.0</td>\n",
              "    </tr>\n",
              "    <tr>\n",
              "      <th>2</th>\n",
              "      <td>GOOG</td>\n",
              "      <td>2016-07-15 00:00:00+00:00</td>\n",
              "      <td>719.85</td>\n",
              "      <td>725.7400</td>\n",
              "      <td>719.055</td>\n",
              "      <td>725.73</td>\n",
              "      <td>1279339</td>\n",
              "      <td>719.85</td>\n",
              "      <td>725.7400</td>\n",
              "      <td>719.055</td>\n",
              "      <td>725.73</td>\n",
              "      <td>1279339</td>\n",
              "      <td>0.0</td>\n",
              "      <td>1.0</td>\n",
              "    </tr>\n",
              "    <tr>\n",
              "      <th>3</th>\n",
              "      <td>GOOG</td>\n",
              "      <td>2016-07-18 00:00:00+00:00</td>\n",
              "      <td>733.78</td>\n",
              "      <td>736.1300</td>\n",
              "      <td>721.190</td>\n",
              "      <td>722.71</td>\n",
              "      <td>1295476</td>\n",
              "      <td>733.78</td>\n",
              "      <td>736.1300</td>\n",
              "      <td>721.190</td>\n",
              "      <td>722.71</td>\n",
              "      <td>1295476</td>\n",
              "      <td>0.0</td>\n",
              "      <td>1.0</td>\n",
              "    </tr>\n",
              "    <tr>\n",
              "      <th>4</th>\n",
              "      <td>GOOG</td>\n",
              "      <td>2016-07-19 00:00:00+00:00</td>\n",
              "      <td>736.96</td>\n",
              "      <td>736.9900</td>\n",
              "      <td>729.000</td>\n",
              "      <td>729.89</td>\n",
              "      <td>1227486</td>\n",
              "      <td>736.96</td>\n",
              "      <td>736.9900</td>\n",
              "      <td>729.000</td>\n",
              "      <td>729.89</td>\n",
              "      <td>1227486</td>\n",
              "      <td>0.0</td>\n",
              "      <td>1.0</td>\n",
              "    </tr>\n",
              "    <tr>\n",
              "      <th>...</th>\n",
              "      <td>...</td>\n",
              "      <td>...</td>\n",
              "      <td>...</td>\n",
              "      <td>...</td>\n",
              "      <td>...</td>\n",
              "      <td>...</td>\n",
              "      <td>...</td>\n",
              "      <td>...</td>\n",
              "      <td>...</td>\n",
              "      <td>...</td>\n",
              "      <td>...</td>\n",
              "      <td>...</td>\n",
              "      <td>...</td>\n",
              "      <td>...</td>\n",
              "    </tr>\n",
              "    <tr>\n",
              "      <th>1252</th>\n",
              "      <td>GOOG</td>\n",
              "      <td>2021-07-02 00:00:00+00:00</td>\n",
              "      <td>2574.38</td>\n",
              "      <td>2576.9600</td>\n",
              "      <td>2535.380</td>\n",
              "      <td>2536.79</td>\n",
              "      <td>1058256</td>\n",
              "      <td>2574.38</td>\n",
              "      <td>2576.9600</td>\n",
              "      <td>2535.380</td>\n",
              "      <td>2536.79</td>\n",
              "      <td>1058256</td>\n",
              "      <td>0.0</td>\n",
              "      <td>1.0</td>\n",
              "    </tr>\n",
              "    <tr>\n",
              "      <th>1253</th>\n",
              "      <td>GOOG</td>\n",
              "      <td>2021-07-06 00:00:00+00:00</td>\n",
              "      <td>2595.42</td>\n",
              "      <td>2597.6900</td>\n",
              "      <td>2568.180</td>\n",
              "      <td>2588.99</td>\n",
              "      <td>1067517</td>\n",
              "      <td>2595.42</td>\n",
              "      <td>2597.6900</td>\n",
              "      <td>2568.180</td>\n",
              "      <td>2588.99</td>\n",
              "      <td>1067517</td>\n",
              "      <td>0.0</td>\n",
              "      <td>1.0</td>\n",
              "    </tr>\n",
              "    <tr>\n",
              "      <th>1254</th>\n",
              "      <td>GOOG</td>\n",
              "      <td>2021-07-07 00:00:00+00:00</td>\n",
              "      <td>2601.55</td>\n",
              "      <td>2612.7983</td>\n",
              "      <td>2595.200</td>\n",
              "      <td>2606.82</td>\n",
              "      <td>834186</td>\n",
              "      <td>2601.55</td>\n",
              "      <td>2612.7983</td>\n",
              "      <td>2595.200</td>\n",
              "      <td>2606.82</td>\n",
              "      <td>834186</td>\n",
              "      <td>0.0</td>\n",
              "      <td>1.0</td>\n",
              "    </tr>\n",
              "    <tr>\n",
              "      <th>1255</th>\n",
              "      <td>GOOG</td>\n",
              "      <td>2021-07-08 00:00:00+00:00</td>\n",
              "      <td>2583.54</td>\n",
              "      <td>2600.6500</td>\n",
              "      <td>2560.800</td>\n",
              "      <td>2565.00</td>\n",
              "      <td>988975</td>\n",
              "      <td>2583.54</td>\n",
              "      <td>2600.6500</td>\n",
              "      <td>2560.800</td>\n",
              "      <td>2565.00</td>\n",
              "      <td>988975</td>\n",
              "      <td>0.0</td>\n",
              "      <td>1.0</td>\n",
              "    </tr>\n",
              "    <tr>\n",
              "      <th>1256</th>\n",
              "      <td>GOOG</td>\n",
              "      <td>2021-07-09 00:00:00+00:00</td>\n",
              "      <td>2591.49</td>\n",
              "      <td>2596.9900</td>\n",
              "      <td>2578.870</td>\n",
              "      <td>2578.89</td>\n",
              "      <td>755466</td>\n",
              "      <td>2591.49</td>\n",
              "      <td>2596.9900</td>\n",
              "      <td>2578.870</td>\n",
              "      <td>2578.89</td>\n",
              "      <td>755466</td>\n",
              "      <td>0.0</td>\n",
              "      <td>1.0</td>\n",
              "    </tr>\n",
              "  </tbody>\n",
              "</table>\n",
              "<p>1257 rows × 14 columns</p>\n",
              "</div>"
            ],
            "text/plain": [
              "     symbol                       date  ...  divCash  splitFactor\n",
              "0      GOOG  2016-07-13 00:00:00+00:00  ...      0.0          1.0\n",
              "1      GOOG  2016-07-14 00:00:00+00:00  ...      0.0          1.0\n",
              "2      GOOG  2016-07-15 00:00:00+00:00  ...      0.0          1.0\n",
              "3      GOOG  2016-07-18 00:00:00+00:00  ...      0.0          1.0\n",
              "4      GOOG  2016-07-19 00:00:00+00:00  ...      0.0          1.0\n",
              "...     ...                        ...  ...      ...          ...\n",
              "1252   GOOG  2021-07-02 00:00:00+00:00  ...      0.0          1.0\n",
              "1253   GOOG  2021-07-06 00:00:00+00:00  ...      0.0          1.0\n",
              "1254   GOOG  2021-07-07 00:00:00+00:00  ...      0.0          1.0\n",
              "1255   GOOG  2021-07-08 00:00:00+00:00  ...      0.0          1.0\n",
              "1256   GOOG  2021-07-09 00:00:00+00:00  ...      0.0          1.0\n",
              "\n",
              "[1257 rows x 14 columns]"
            ]
          },
          "metadata": {
            "tags": []
          },
          "execution_count": 6
        }
      ]
    },
    {
      "cell_type": "code",
      "metadata": {
        "id": "zn72RMlYdi3_"
      },
      "source": [
        "df1 = df.reset_index()['close']"
      ],
      "execution_count": 7,
      "outputs": []
    },
    {
      "cell_type": "code",
      "metadata": {
        "colab": {
          "base_uri": "https://localhost:8080/"
        },
        "id": "vCRSNoxSdrm4",
        "outputId": "a148fae5-995b-4353-b114-585d278d9883"
      },
      "source": [
        "df1.shape,type(df1)"
      ],
      "execution_count": 8,
      "outputs": [
        {
          "output_type": "execute_result",
          "data": {
            "text/plain": [
              "((1257,), pandas.core.series.Series)"
            ]
          },
          "metadata": {
            "tags": []
          },
          "execution_count": 8
        }
      ]
    },
    {
      "cell_type": "code",
      "metadata": {
        "id": "-IbP5Pmtdszh"
      },
      "source": [
        "import matplotlib.pyplot as plt\n"
      ],
      "execution_count": 9,
      "outputs": []
    },
    {
      "cell_type": "code",
      "metadata": {
        "colab": {
          "base_uri": "https://localhost:8080/",
          "height": 282
        },
        "id": "ugZKd7rSeodZ",
        "outputId": "8cfe6aad-5bf2-40ba-ccdd-c9547466294a"
      },
      "source": [
        "plt.plot(df1)"
      ],
      "execution_count": 10,
      "outputs": [
        {
          "output_type": "execute_result",
          "data": {
            "text/plain": [
              "[<matplotlib.lines.Line2D at 0x7f9a54fe1ad0>]"
            ]
          },
          "metadata": {
            "tags": []
          },
          "execution_count": 10
        },
        {
          "output_type": "display_data",
          "data": {
            "image/png": "[encoded data removed]",
            "text/plain": [
              "<Figure size 432x288 with 1 Axes>"
            ]
          },
          "metadata": {
            "tags": [],
            "needs_background": "light"
          }
        }
      ]
    },
    {
      "cell_type": "code",
      "metadata": {
        "id": "jvvhge0reqkG"
      },
      "source": [
        "## LSTM are sensitive to the scale of data. so convert the data using minmax scaler\n",
        "import numpy as np\n",
        "from sklearn.preprocessing import MinMaxScaler\n",
        "scaler  = MinMaxScaler(feature_range=(0,1))\n",
        "df1 = scaler.fit_transform(np.array(df1).reshape(-1,1))"
      ],
      "execution_count": 11,
      "outputs": []
    },
    {
      "cell_type": "code",
      "metadata": {
        "colab": {
          "base_uri": "https://localhost:8080/"
        },
        "id": "_6S8sLrzgdcM",
        "outputId": "ae8d4381-0308-4881-d3be-9423224ccc10"
      },
      "source": [
        "print(df1)"
      ],
      "execution_count": 12,
      "outputs": [
        {
          "output_type": "stream",
          "text": [
            "[[0.        ]\n",
            " [0.00210658]\n",
            " [0.00152289]\n",
            " ...\n",
            " [1.        ]\n",
            " [0.99044344]\n",
            " [0.99466191]]\n"
          ],
          "name": "stdout"
        }
      ]
    },
    {
      "cell_type": "code",
      "metadata": {
        "id": "sE5OMFUyg9Hu"
      },
      "source": [
        "## splitting the data into train and test\n",
        "training_size = int(len(df1)*0.7) \n",
        "test_size = len(df1)-training_size\n",
        "train_data,test_data = df1[0:training_size,:],df1[training_size:len(df1)]"
      ],
      "execution_count": 13,
      "outputs": []
    },
    {
      "cell_type": "code",
      "metadata": {
        "colab": {
          "base_uri": "https://localhost:8080/"
        },
        "id": "dv7d_bE9kJI4",
        "outputId": "19d176a9-a31d-4b07-ff03-148719815739"
      },
      "source": [
        "len(test_data)"
      ],
      "execution_count": 14,
      "outputs": [
        {
          "output_type": "execute_result",
          "data": {
            "text/plain": [
              "378"
            ]
          },
          "metadata": {
            "tags": []
          },
          "execution_count": 14
        }
      ]
    },
    {
      "cell_type": "code",
      "metadata": {
        "id": "ErEgBKQOkUR8"
      },
      "source": [
        "#convert an array value into dataset matrix\n",
        "def create_matrix(dataset,time_step):\n",
        "  data_X,data_y = [],[]\n",
        "  for i in range(len(dataset)-time_step-1):\n",
        "    a = dataset[i:(i+time_step),0]\n",
        "    data_X.append(a)\n",
        "    data_y.append(dataset[i+time_step,0])\n",
        "  return np.array(data_X),np.array(data_y)"
      ],
      "execution_count": 15,
      "outputs": []
    },
    {
      "cell_type": "code",
      "metadata": {
        "id": "t3l5lsIQmuAi"
      },
      "source": [
        "time_step = 100\n",
        "X_train,y_train = create_matrix(train_data,time_step)\n",
        "X_test,y_test = create_matrix(test_data,time_step)"
      ],
      "execution_count": 16,
      "outputs": []
    },
    {
      "cell_type": "code",
      "metadata": {
        "id": "yi8xQ0G2p8Yf"
      },
      "source": [
        "##reshape input\n",
        "X_train  = X_train.reshape(X_train.shape[0],X_train.shape[1],1)\n",
        "X_test  = X_test.reshape(X_test.shape[0],X_test.shape[1],1)"
      ],
      "execution_count": 17,
      "outputs": []
    },
    {
      "cell_type": "code",
      "metadata": {
        "id": "qwFqKK5Fu15O"
      },
      "source": [
        "# creating the stack LSTM model\n",
        "from tensorflow.keras.models import Sequential\n",
        "from tensorflow.keras.layers import Dense\n",
        "from tensorflow.keras.layers import LSTM"
      ],
      "execution_count": 18,
      "outputs": []
    },
    {
      "cell_type": "code",
      "metadata": {
        "id": "2wfSTYiwvLyy"
      },
      "source": [
        "model = Sequential()\n",
        "model.add(LSTM(50,return_sequences=True,input_shape = (100,1)))\n",
        "model.add(LSTM(50,return_sequences = True))\n",
        "model.add(LSTM(50))\n",
        "model.add(Dense(1))\n",
        "model.compile(loss = 'mean_squared_error',optimizer = 'adam')"
      ],
      "execution_count": 19,
      "outputs": []
    },
    {
      "cell_type": "code",
      "metadata": {
        "colab": {
          "base_uri": "https://localhost:8080/"
        },
        "id": "KOm9gKc-wvHF",
        "outputId": "4a142882-69a4-4432-9523-19e166ab5ee8"
      },
      "source": [
        "model.summary()"
      ],
      "execution_count": 20,
      "outputs": [
        {
          "output_type": "stream",
          "text": [
            "Model: \"sequential\"\n",
            "_________________________________________________________________\n",
            "Layer (type)                 Output Shape              Param #   \n",
            "=================================================================\n",
            "lstm (LSTM)                  (None, 100, 50)           10400     \n",
            "_________________________________________________________________\n",
            "lstm_1 (LSTM)                (None, 100, 50)           20200     \n",
            "_________________________________________________________________\n",
            "lstm_2 (LSTM)                (None, 50)                20200     \n",
            "_________________________________________________________________\n",
            "dense (Dense)                (None, 1)                 51        \n",
            "=================================================================\n",
            "Total params: 50,851\n",
            "Trainable params: 50,851\n",
            "Non-trainable params: 0\n",
            "_________________________________________________________________\n"
          ],
          "name": "stdout"
        }
      ]
    },
    {
      "cell_type": "code",
      "metadata": {
        "id": "HI_2qCDYxM05"
      },
      "source": [
        "model.fit(X_train,y_train,validation_data=(X_test,y_test),epochs = 100,batch_size = 64,verbose=1)"
      ],
      "execution_count": null,
      "outputs": []
    },
    {
      "cell_type": "code",
      "metadata": {
        "id": "Un3ynb6jUrco"
      },
      "source": [
        "# prediction and performance matrix\n",
        "train_predict = model.predict(X_train)\n",
        "test_predict = model.predict(X_test)"
      ],
      "execution_count": 23,
      "outputs": []
    },
    {
      "cell_type": "code",
      "metadata": {
        "id": "RkygyQwwVUZY"
      },
      "source": [
        "train_predict"
      ],
      "execution_count": null,
      "outputs": []
    },
    {
      "cell_type": "code",
      "metadata": {
        "id": "L4VnO32qVWY1"
      },
      "source": [
        "# transfer back to original form\n",
        "train_predict = scaler.inverse_transform(train_predict)\n",
        "test_predict = scaler.inverse_transform(test_predict)"
      ],
      "execution_count": 25,
      "outputs": []
    },
    {
      "cell_type": "code",
      "metadata": {
        "id": "OGwzrdgaVqht"
      },
      "source": [
        "train_predict"
      ],
      "execution_count": null,
      "outputs": []
    },
    {
      "cell_type": "code",
      "metadata": {
        "id": "6ieqTaFAVsXy"
      },
      "source": [
        "## calculate RMSE and performance matrix\n",
        "import math \n",
        "from sklearn.metrics import mean_squared_error\n",
        "math.sqrt(mean_squared_error(y_train,train_predict))\n"
      ],
      "execution_count": null,
      "outputs": []
    },
    {
      "cell_type": "code",
      "metadata": {
        "id": "K3AShXMuWKev"
      },
      "source": [
        "math.sqrt(mean_squared_error(y_test,test_predict))"
      ],
      "execution_count": null,
      "outputs": []
    },
    {
      "cell_type": "code",
      "metadata": {
        "id": "OsXa7vGKWS8e"
      },
      "source": [
        ""
      ],
      "execution_count": null,
      "outputs": []
    }
  ]
}